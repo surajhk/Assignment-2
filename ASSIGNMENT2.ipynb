{
 "cells": [
  {
   "cell_type": "markdown",
   "metadata": {},
   "source": [
    "TASK 1 --  1.1"
   ]
  },
  {
   "cell_type": "code",
   "execution_count": 92,
   "metadata": {},
   "outputs": [],
   "source": [
    "def myreduce(lst1):\n",
    "    total=0\n",
    "    if len(lst1)>1:\n",
    "        for i in lst1:\n",
    "            total=total+i\n",
    "        return total\n",
    "            "
   ]
  },
  {
   "cell_type": "code",
   "execution_count": 93,
   "metadata": {},
   "outputs": [
    {
     "name": "stdout",
     "output_type": "stream",
     "text": [
      "994\n"
     ]
    }
   ],
   "source": [
    "a=list(range(22,50))\n",
    "b=myreduce(a)\n",
    "print(b)"
   ]
  },
  {
   "cell_type": "markdown",
   "metadata": {},
   "source": [
    "TASK 1-- 1.2"
   ]
  },
  {
   "cell_type": "code",
   "execution_count": 133,
   "metadata": {},
   "outputs": [],
   "source": [
    "def fuc1_check(i):\n",
    "    if i%2!=0:\n",
    "        return True\n",
    "    \n",
    "def my_filter(ite):\n",
    "    res1=[]\n",
    "    for i in ite:\n",
    "        a=fuc1_check(i)\n",
    "        if a==True:\n",
    "            res1.append(i)\n",
    "    return res1"
   ]
  },
  {
   "cell_type": "code",
   "execution_count": 135,
   "metadata": {},
   "outputs": [
    {
     "name": "stdout",
     "output_type": "stream",
     "text": [
      "[1, 3, 5, 7, 9]\n"
     ]
    }
   ],
   "source": [
    "a3=[]\n",
    "a2=[1,2,3,4,5,6,7,8,9,10]\n",
    "a3=my_filter(a2)\n",
    "print(a3)"
   ]
  },
  {
   "cell_type": "markdown",
   "metadata": {},
   "source": [
    "2nd Question"
   ]
  },
  {
   "cell_type": "code",
   "execution_count": 3,
   "metadata": {},
   "outputs": [],
   "source": [
    "a1=['A','C','A','D','G','I','L','D']\n",
    "a2=[row for row in a1]"
   ]
  },
  {
   "cell_type": "code",
   "execution_count": 4,
   "metadata": {},
   "outputs": [
    {
     "data": {
      "text/plain": [
       "['A', 'C', 'A', 'D', 'G', 'I', 'L', 'D']"
      ]
     },
     "execution_count": 4,
     "metadata": {},
     "output_type": "execute_result"
    }
   ],
   "source": [
    "a2"
   ]
  },
  {
   "cell_type": "markdown",
   "metadata": {},
   "source": [
    "next question"
   ]
  },
  {
   "cell_type": "code",
   "execution_count": 16,
   "metadata": {},
   "outputs": [
    {
     "data": {
      "text/plain": [
       "['x', 'xx', 'xxx', 'xxxx', 'y', 'yy', 'yyy', 'yyyy', 'z', 'zz', 'zzz', 'zzzz']"
      ]
     },
     "execution_count": 16,
     "metadata": {},
     "output_type": "execute_result"
    }
   ],
   "source": [
    "lst12=['x','y','z']\n",
    "ite=range(1,5)\n",
    "lst_res=[j*i for j in lst12 for i in ite]\n",
    "lst_res"
   ]
  },
  {
   "cell_type": "markdown",
   "metadata": {},
   "source": [
    "next question"
   ]
  },
  {
   "cell_type": "code",
   "execution_count": 17,
   "metadata": {},
   "outputs": [
    {
     "data": {
      "text/plain": [
       "['x', 'y', 'z', 'xx', 'yy', 'zz', 'xxx', 'yyy', 'zzz', 'xxxx', 'yyyy', 'zzzz']"
      ]
     },
     "execution_count": 17,
     "metadata": {},
     "output_type": "execute_result"
    }
   ],
   "source": [
    "lst12=['x','y','z']\n",
    "ite=range(1,5)\n",
    "lst_res=[j*i for i in ite for j in lst12]\n",
    "lst_res"
   ]
  },
  {
   "cell_type": "markdown",
   "metadata": {},
   "source": [
    "next question"
   ]
  },
  {
   "cell_type": "code",
   "execution_count": 70,
   "metadata": {},
   "outputs": [],
   "source": [
    "g1=[2,3,4]\n",
    "g2=[2,3,4,5]"
   ]
  },
  {
   "cell_type": "code",
   "execution_count": 71,
   "metadata": {},
   "outputs": [
    {
     "name": "stdout",
     "output_type": "stream",
     "text": [
      "[[2], [3], [4], [3], [4], [5], [4], [5], [6]]\n"
     ]
    }
   ],
   "source": [
    "res=[[i+t] for i in g1 for t in range(0,3)]\n",
    "print(res)"
   ]
  },
  {
   "cell_type": "markdown",
   "metadata": {},
   "source": [
    "next question"
   ]
  },
  {
   "cell_type": "code",
   "execution_count": 86,
   "metadata": {},
   "outputs": [],
   "source": [
    "res1=[[i+t1 for t1 in range(0,4)]for i in g2]"
   ]
  },
  {
   "cell_type": "code",
   "execution_count": 87,
   "metadata": {},
   "outputs": [
    {
     "data": {
      "text/plain": [
       "[[2, 3, 4, 5], [3, 4, 5, 6], [4, 5, 6, 7], [5, 6, 7, 8]]"
      ]
     },
     "execution_count": 87,
     "metadata": {},
     "output_type": "execute_result"
    }
   ],
   "source": [
    "res1"
   ]
  },
  {
   "cell_type": "markdown",
   "metadata": {},
   "source": [
    "next question"
   ]
  },
  {
   "cell_type": "code",
   "execution_count": 91,
   "metadata": {},
   "outputs": [],
   "source": [
    "l1=[1,2,3]\n",
    "rest=[(j,i) for i in l1 for j in l1]"
   ]
  },
  {
   "cell_type": "code",
   "execution_count": 92,
   "metadata": {},
   "outputs": [
    {
     "data": {
      "text/plain": [
       "[(1, 1), (2, 1), (3, 1), (1, 2), (2, 2), (3, 2), (1, 3), (2, 3), (3, 3)]"
      ]
     },
     "execution_count": 92,
     "metadata": {},
     "output_type": "execute_result"
    }
   ],
   "source": [
    "rest"
   ]
  },
  {
   "cell_type": "markdown",
   "metadata": {},
   "source": [
    "3--longest word return"
   ]
  },
  {
   "cell_type": "code",
   "execution_count": 138,
   "metadata": {},
   "outputs": [],
   "source": [
    "def longestWord(param):\n",
    "    param.sort(key=len,reverse=True)\n",
    "    return param[0]"
   ]
  },
  {
   "cell_type": "code",
   "execution_count": 141,
   "metadata": {},
   "outputs": [
    {
     "name": "stdout",
     "output_type": "stream",
     "text": [
      "enter the list of words seperated by space suraj uday harsh poonam phildjajdksakad\n"
     ]
    }
   ],
   "source": [
    "str11=input(\"enter the list of words seperated by space \")"
   ]
  },
  {
   "cell_type": "code",
   "execution_count": 142,
   "metadata": {},
   "outputs": [
    {
     "name": "stdout",
     "output_type": "stream",
     "text": [
      "phildjajdksakad\n"
     ]
    }
   ],
   "source": [
    "lon=str11.split()\n",
    "a=longestWord(lon)\n",
    "print(a)"
   ]
  },
  {
   "cell_type": "markdown",
   "metadata": {},
   "source": [
    "TASK 2 --1.1"
   ]
  },
  {
   "cell_type": "code",
   "execution_count": 74,
   "metadata": {},
   "outputs": [
    {
     "name": "stdout",
     "output_type": "stream",
     "text": [
      "enter the side 1 3\n",
      "enter the side 2 4\n",
      "enter the side 3 5\n",
      "area of triangle is  77.76888838089432\n"
     ]
    }
   ],
   "source": [
    "class len_s():\n",
    "    def __init__(self,a,b,c):\n",
    "        self.side1=a\n",
    "        self.side2=b\n",
    "        self.side3=c \n",
    "        \n",
    "        \n",
    "class area_tr(len_s):\n",
    "    def __init__(self,a,b,c):\n",
    "        super().__init__(a,b,c)\n",
    "        \n",
    "    def area1(point):\n",
    "        point.semi=(point.side1)+(point.side2)+(point.side3)\n",
    "        point.area=(point.semi*(point.semi-point.side1)*(point.semi-point.side2)*(point.semi-point.side3))**0.5\n",
    "        return (point.area)\n",
    "\n",
    "var1=int(input(\"enter the side 1 \"))\n",
    "var2=int(input(\"enter the side 2 \"))\n",
    "var3=int(input(\"enter the side 3 \"))\n",
    "a2=area_tr(var1,var2,var3)\n",
    "a3=a2.area1()\n",
    "print(\"area of triangle is \",a3)\n"
   ]
  },
  {
   "cell_type": "markdown",
   "metadata": {},
   "source": [
    "TASK 2--1.2"
   ]
  },
  {
   "cell_type": "code",
   "execution_count": 134,
   "metadata": {},
   "outputs": [],
   "source": [
    "def filter_long_words(lst1,n):\n",
    "    lst2=[]\n",
    "    lst1.sort(key=len,reverse=True)\n",
    "    for i in lst1:\n",
    "        if len(i)>n:\n",
    "            lst2.append(i)\n",
    "    return lst2"
   ]
  },
  {
   "cell_type": "code",
   "execution_count": 143,
   "metadata": {},
   "outputs": [
    {
     "name": "stdout",
     "output_type": "stream",
     "text": [
      "enter the list of words seperated by space suraj khanna poonam\n",
      "enter the integer you want 5\n"
     ]
    }
   ],
   "source": [
    "str1=input(\"enter the list of words seperated by space \")\n",
    "str2=input(\"enter the integer you want \")"
   ]
  },
  {
   "cell_type": "code",
   "execution_count": 144,
   "metadata": {},
   "outputs": [
    {
     "name": "stdout",
     "output_type": "stream",
     "text": [
      "['khanna', 'poonam']\n"
     ]
    }
   ],
   "source": [
    "lst1=str1.split()\n",
    "n=int(str2)\n",
    "a11=filter_long_words(lst1,n)\n",
    "print(a11)"
   ]
  },
  {
   "cell_type": "markdown",
   "metadata": {},
   "source": [
    "2.1"
   ]
  },
  {
   "cell_type": "code",
   "execution_count": 147,
   "metadata": {},
   "outputs": [],
   "source": [
    "def str_to_int(a):\n",
    "    lst12=[]\n",
    "    for i in a:\n",
    "        lst12.append(len(i))\n",
    "    return lst12"
   ]
  },
  {
   "cell_type": "code",
   "execution_count": 152,
   "metadata": {},
   "outputs": [
    {
     "name": "stdout",
     "output_type": "stream",
     "text": [
      "enter the string values seperated by space suraj uday harsh poonam khanna\n"
     ]
    }
   ],
   "source": [
    "str12=input(\"enter the string values seperated by space \")"
   ]
  },
  {
   "cell_type": "code",
   "execution_count": 153,
   "metadata": {},
   "outputs": [
    {
     "name": "stdout",
     "output_type": "stream",
     "text": [
      "[5, 4, 5, 6, 6]\n"
     ]
    }
   ],
   "source": [
    "lsr=str12.split()\n",
    "res=str_to_int(lsr)\n",
    "print(res)"
   ]
  },
  {
   "cell_type": "markdown",
   "metadata": {},
   "source": [
    "2.2"
   ]
  },
  {
   "cell_type": "code",
   "execution_count": 157,
   "metadata": {},
   "outputs": [],
   "source": [
    "def str_len(param):\n",
    "    chck1=['a','e','i','o','u']\n",
    "    if param in chck1:\n",
    "        return True\n",
    "    else:\n",
    "        return False"
   ]
  },
  {
   "cell_type": "code",
   "execution_count": 168,
   "metadata": {},
   "outputs": [
    {
     "name": "stdout",
     "output_type": "stream",
     "text": [
      "enter the charactere\n"
     ]
    }
   ],
   "source": [
    "str3=input(\"enter the character\")"
   ]
  },
  {
   "cell_type": "code",
   "execution_count": 169,
   "metadata": {},
   "outputs": [
    {
     "name": "stdout",
     "output_type": "stream",
     "text": [
      "True\n"
     ]
    }
   ],
   "source": [
    "r=str_len(str3)\n",
    "print(r)"
   ]
  }
 ],
 "metadata": {
  "kernelspec": {
   "display_name": "Python 3",
   "language": "python",
   "name": "python3"
  },
  "language_info": {
   "codemirror_mode": {
    "name": "ipython",
    "version": 3
   },
   "file_extension": ".py",
   "mimetype": "text/x-python",
   "name": "python",
   "nbconvert_exporter": "python",
   "pygments_lexer": "ipython3",
   "version": "3.7.3"
  }
 },
 "nbformat": 4,
 "nbformat_minor": 2
}
